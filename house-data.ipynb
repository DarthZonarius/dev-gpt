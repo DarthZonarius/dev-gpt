{
 "cells": [
  {
   "cell_type": "code",
   "execution_count": null,
   "metadata": {},
   "outputs": [],
   "source": [
    "import config\n",
    "from devgpt import GPT4\n",
    "\n",
    "# Create a GPT4 instance\n",
    "gpt4 = GPT4(config.OPENAI_API_KEY)\n",
    "\n",
    "gpt4.session.project_name = 'house-data-db'\n",
    "gpt4.session.create_output_folder()"
   ]
  },
  {
   "cell_type": "code",
   "execution_count": null,
   "metadata": {},
   "outputs": [],
   "source": [
    "# Update the initial system message to request code in the specified format\n",
    "\n",
    "system_message= \"\"\"\n",
    "Act as a senior python dev and provide code in the following format: \n",
    "\n",
    "```bash\n",
    "(required dependencies)\n",
    "```\n",
    "\n",
    "```python\n",
    "(Python code)\n",
    "```\n",
    "\n",
    "the code should be in a single file that can be run from main\"\"\"\n",
    "gpt4.add_message(system_message, role=\"system\")"
   ]
  },
  {
   "cell_type": "code",
   "execution_count": null,
   "metadata": {},
   "outputs": [],
   "source": [
    "task = \"\"\"\n",
    "there is a csv file called house-data.csv (it does not currently have any headers) in the data folder. it contains\n",
    "\n",
    "this dataset of properties sold in the uk last year with 766k rows.\n",
    "\n",
    "column_names = ['transaction_id', 'price', 'transfer_date', 'postcode', 'property_type', 'new_build', 'leasehold', 'PAON', 'SAON', 'street', 'locality', 'town_city', 'district', 'county', 'PPD_category', 'record_status']\n",
    "    \n",
    "write a query to find the top 10 most expensive properties in london\n",
    "\"\"\"\n",
    "gpt4.add_message(task, role=\"user\")"
   ]
  },
  {
   "cell_type": "code",
   "execution_count": 57,
   "metadata": {},
   "outputs": [
    {
     "name": "stdout",
     "output_type": "stream",
     "text": [
      "2023-03-23 15:28:25 [SYSTEM] Waiting for GPT response...\n",
      "2023-03-23 15:29:20 [ASSISTANT] To plot the properties on a map, we can use the `folium` library. First, you need to install it by running:\n",
      "\n",
      "```bash\n",
      "pip install folium\n",
      "```\n",
      "\n",
      "Now, let's update the code to plot the top 10 most expensive properties in London on a map.\n",
      "\n",
      "```python\n",
      "import pandas as pd\n",
      "import folium\n",
      "\n",
      "# Load CSV data into a DataFrame\n",
      "column_names = ['transaction_id', 'price', 'transfer_date', 'postcode', 'property_type', 'new_build', 'leasehold', 'PAON', 'SAON', 'street', 'locality', 'town_city', 'district', 'county', 'PPD_category', 'record_status']\n",
      "data = pd.read_csv(\"data/house-data.csv\", header=None, names=column_names)\n",
      "\n",
      "# Filter properties in London\n",
      "london_data = data[data['town_city'] == 'LONDON']\n",
      "\n",
      "# Sort prices in descending order and select top 10\n",
      "top_10_expensive_properties = london_data.sort_values(by='price', ascending=False).head(10)\n",
      "\n",
      "# Define a function to get latitude and longitude from postcode\n",
      "def get_lat_lng(postcode: str):\n",
      "    import requests\n",
      "    try:\n",
      "        response = requests.get(f'http://api.postcodes.io/postcodes/{postcode}').json()\n",
      "        if response['status'] == 200:\n",
      "            lat, lng = response['result']['latitude'], response['result']['longitude']\n",
      "            return lat, lng\n",
      "    except:\n",
      "        return None, None\n",
      "\n",
      "# Create a map centered around London\n",
      "m = folium.Map(location=[51.5074, -0.1278], zoom_start=12)\n",
      "\n",
      "# Add markers for each property\n",
      "for _, row in top_10_expensive_properties.iterrows():\n",
      "    lat, lng = get_lat_lng(row['postcode'])\n",
      "    if lat and lng:\n",
      "        folium.Marker(location=[lat, lng],\n",
      "                      tooltip=f\"Price: £{row['price']}<br>Address: {row['PAON']} {row['street']}, {row['postcode']}\"\n",
      "                      ).add_to(m)\n",
      "\n",
      "# Save the map to an HTML file\n",
      "m.save(\"london_expensive_properties_map.html\")\n",
      "```\n",
      "\n",
      "After running this code, an HTML file named \"london_expensive_properties_map.html\" will be generated in the same directory as the Python script. Open this file using a web browser to see the map with the top 10 most expensive properties in London plotted as markers.\n",
      "\n",
      "Please note that this script uses the Postcodes.io API to fetch latitude and longitude coordinates based on postcode. It is a free API but has rate limits; more details can be found at https://postcodes.io/.\n",
      "2023-03-23 15:29:20 [SYSTEM] GPT response received in 54.46 seconds\n",
      "Requirement already satisfied: folium in /Users/sampink/opt/anaconda3/lib/python3.9/site-packages (0.14.0)\n",
      "Requirement already satisfied: jinja2>=2.9 in /Users/sampink/opt/anaconda3/lib/python3.9/site-packages (from folium) (3.1.2)\n",
      "Requirement already satisfied: numpy in /Users/sampink/opt/anaconda3/lib/python3.9/site-packages (from folium) (1.20.3)\n",
      "Requirement already satisfied: branca>=0.6.0 in /Users/sampink/opt/anaconda3/lib/python3.9/site-packages (from folium) (0.6.0)\n",
      "Requirement already satisfied: requests in /Users/sampink/opt/anaconda3/lib/python3.9/site-packages (from folium) (2.26.0)\n",
      "Requirement already satisfied: MarkupSafe>=2.0 in /Users/sampink/opt/anaconda3/lib/python3.9/site-packages (from jinja2>=2.9->folium) (2.1.1)\n",
      "Requirement already satisfied: certifi>=2017.4.17 in /Users/sampink/opt/anaconda3/lib/python3.9/site-packages (from requests->folium) (2021.10.8)\n",
      "Requirement already satisfied: urllib3<1.27,>=1.21.1 in /Users/sampink/opt/anaconda3/lib/python3.9/site-packages (from requests->folium) (1.26.8)\n",
      "Requirement already satisfied: idna<4,>=2.5 in /Users/sampink/opt/anaconda3/lib/python3.9/site-packages (from requests->folium) (3.3)\n",
      "Requirement already satisfied: charset-normalizer~=2.0.0 in /Users/sampink/opt/anaconda3/lib/python3.9/site-packages (from requests->folium) (2.0.10)\n"
     ]
    },
    {
     "name": "stderr",
     "output_type": "stream",
     "text": [
      "\n",
      "[notice] A new release of pip available: 22.3.1 -> 23.0.1\n",
      "[notice] To update, run: pip install --upgrade pip\n"
     ]
    },
    {
     "name": "stdout",
     "output_type": "stream",
     "text": [
      "2023-03-23 15:29:32 [SYSTEM] The following error occurred while running the code:\n",
      "2023-03-23 15:29:32 [SYSTEM] Traceback (most recent call last):\n",
      "  File \"/Users/sampink/repos/gpt-3.5/output/house-data-db/code_v2.py\", line 30, in <module>\n",
      "    lat, lng = get_lat_lng(row['postcode'])\n",
      "TypeError: cannot unpack non-iterable NoneType object\n",
      "2023-03-23 15:29:32 [USER] Please help me fix the error in the code.\n",
      "2023-03-23 15:29:32 [SYSTEM] Waiting for GPT response...\n",
      "2023-03-23 15:29:48 [ASSISTANT] Apologies for the error. I made a mistake in the `get_lat_lng` function when it handles exceptions. We should return `(None, None)` instead of `None, None`. Here's the corrected function:\n",
      "\n",
      "```python\n",
      "def get_lat_lng(postcode: str):\n",
      "    import requests\n",
      "    try:\n",
      "        response = requests.get(f'http://api.postcodes.io/postcodes/{postcode}').json()\n",
      "        if response['status'] == 200:\n",
      "            lat, lng = response['result']['latitude'], response['result']['longitude']\n",
      "            return lat, lng\n",
      "    except:\n",
      "        return (None, None)  # Fix here\n",
      "```\n",
      "\n",
      "Now, replace the previous `get_lat_lng` function definition in the code with this one and re-run the script. It should work without raising any errors.\n",
      "2023-03-23 15:29:48 [SYSTEM] GPT response received in 16.13 seconds\n"
     ]
    }
   ],
   "source": [
    "# Generate and save response\n",
    "gpt4.generate_and_save_response()\n",
    "\n",
    "# Run code and add output to messages\n",
    "gpt4.run_code_and_add_output_to_messages()"
   ]
  },
  {
   "cell_type": "code",
   "execution_count": 56,
   "metadata": {},
   "outputs": [
    {
     "name": "stdout",
     "output_type": "stream",
     "text": [
      "2023-03-23 15:28:24 [USER] now update the code to plot properties on a map\n"
     ]
    }
   ],
   "source": [
    "gpt4.add_message(\"now update the code to plot properties on a map\", role=\"user\")\n"
   ]
  },
  {
   "cell_type": "code",
   "execution_count": null,
   "metadata": {},
   "outputs": [],
   "source": []
  }
 ],
 "metadata": {
  "kernelspec": {
   "display_name": "base",
   "language": "python",
   "name": "python3"
  },
  "language_info": {
   "codemirror_mode": {
    "name": "ipython",
    "version": 3
   },
   "file_extension": ".py",
   "mimetype": "text/x-python",
   "name": "python",
   "nbconvert_exporter": "python",
   "pygments_lexer": "ipython3",
   "version": "3.9.7"
  },
  "orig_nbformat": 4
 },
 "nbformat": 4,
 "nbformat_minor": 2
}
