{
 "cells": [
  {
   "cell_type": "code",
   "execution_count": null,
   "metadata": {},
   "outputs": [],
   "source": [
    "import config\n",
    "import tasks\n",
    "from devgpt import GPT4\n",
    "\n",
    "# Create a GPT4 instance\n",
    "gpt4 = GPT4(config.OPENAI_API_KEY)\n",
    "\n",
    "gpt4.add_message(tasks.system_message, role=\"system\")"
   ]
  },
  {
   "cell_type": "code",
   "execution_count": null,
   "metadata": {},
   "outputs": [],
   "source": [
    "gpt4.session.project_name = 'house-prices'\n",
    "gpt4.session.create_output_folder()\n",
    "\n",
    "gpt4.add_message(tasks.house_price, role=\"user\")\n",
    "\n",
    "# Generate and save response\n",
    "gpt4.generate_and_save_response()\n"
   ]
  },
  {
   "cell_type": "code",
   "execution_count": null,
   "metadata": {},
   "outputs": [],
   "source": [
    "# Run code and add output to messages\n",
    "gpt4.run_code_and_add_output_to_messages()"
   ]
  },
  {
   "cell_type": "code",
   "execution_count": null,
   "metadata": {},
   "outputs": [],
   "source": []
  }
 ],
 "metadata": {
  "kernelspec": {
   "display_name": "base",
   "language": "python",
   "name": "python3"
  },
  "language_info": {
   "codemirror_mode": {
    "name": "ipython",
    "version": 3
   },
   "file_extension": ".py",
   "mimetype": "text/x-python",
   "name": "python",
   "nbconvert_exporter": "python",
   "pygments_lexer": "ipython3",
   "version": "3.9.7"
  },
  "orig_nbformat": 4
 },
 "nbformat": 4,
 "nbformat_minor": 2
}
